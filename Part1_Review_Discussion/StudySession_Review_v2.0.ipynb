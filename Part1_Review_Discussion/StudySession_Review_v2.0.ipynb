{
 "cells": [
  {
   "cell_type": "markdown",
   "metadata": {},
   "source": [
    "# Generative Deep Learning #\n",
    "## Part 1 : Review Session ##\n",
    "——————————————————————————————————————————"
   ]
  },
  {
   "cell_type": "markdown",
   "metadata": {},
   "source": [
    "<h2> Chapter 4 : Generative Adversarial Network </h2>"
   ]
  },
  {
   "cell_type": "markdown",
   "metadata": {},
   "source": [
    " GAN is a battle between two adversaries, the generator and the discriminator.\n",
    " \n",
    " - Generator\n",
    "   \n",
    "   The generator tries to convert random noise into observations that look as if they have been sampled from the original dataset.\n",
    "   \n",
    " - Discriminator\n",
    " \n",
    "   The discriminator tries to predict whether an observation comes from original dataset or is one of the generator's forgeries.\n",
    "   \n",
    " ![](./imgs/GenDeepLearn_Part1_Review_Pic13.jpg)\n",
    " \n",
    " A simple explanation to the Training Process for GANs\n",
    " \n",
    " - At the beginning\n",
    "   - The generator outputs noisy images and the discriminator predicts randomly.\n",
    " - Generator Learning\n",
    "   - It should be able to fool the detector from identify whether the generated image is brought by a generator or reallife \n",
    " - Discriminator Learning\n",
    "   - Works with the objective to perform successful discrimination"
   ]
  },
  {
   "cell_type": "code",
   "execution_count": null,
   "metadata": {},
   "outputs": [],
   "source": []
  }
 ],
 "metadata": {
  "kernelspec": {
   "display_name": "Python 3",
   "language": "python",
   "name": "python3"
  },
  "language_info": {
   "codemirror_mode": {
    "name": "ipython",
    "version": 3
   },
   "file_extension": ".py",
   "mimetype": "text/x-python",
   "name": "python",
   "nbconvert_exporter": "python",
   "pygments_lexer": "ipython3",
   "version": "3.6.0"
  }
 },
 "nbformat": 4,
 "nbformat_minor": 4
}
